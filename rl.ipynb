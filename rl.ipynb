{
 "cells": [
  {
   "cell_type": "markdown",
   "metadata": {},
   "source": [
    "**You may need to install [OpenCV](https://pypi.python.org/pypi/opencv-python) and [scikit-video](http://www.scikit-video.org/stable/).**"
   ]
  },
  {
   "cell_type": "code",
   "execution_count": 38,
   "metadata": {
    "collapsed": true
   },
   "outputs": [],
   "source": [
    "import keras\n",
    "import numpy as np\n",
    "import io\n",
    "import base64\n",
    "from IPython.display import HTML\n",
    "import skvideo.io\n",
    "import cv2\n",
    "import json\n",
    "\n",
    "import random as rd\n",
    "\n",
    "from keras.models import Sequential,model_from_json\n",
    "from keras.layers.core import Dense\n",
    "from keras.optimizers import sgd\n",
    "from keras.optimizers import sgd, Adam\n",
    "from keras.layers import Conv2D, MaxPooling2D, Activation, AveragePooling2D,Reshape,BatchNormalization, Dropout, Flatten"
   ]
  },
  {
   "cell_type": "markdown",
   "metadata": {},
   "source": [
    "# MiniProject #3: Deep Reinforcement Learning"
   ]
  },
  {
   "cell_type": "markdown",
   "metadata": {},
   "source": [
    "__Notations__: $E_p$ is the expectation under probability $p$. Please justify each of your answer and widely comment your code."
   ]
  },
  {
   "cell_type": "markdown",
   "metadata": {},
   "source": [
    "# Context"
   ]
  },
  {
   "cell_type": "markdown",
   "metadata": {},
   "source": [
    "In a reinforcement learning algorithm, we modelize each step $t$ as an action $a_t$ obtained from a state $s_t$, i.e. $\\{(a_{t},s_{t})_{t\\leq T}\\}$ having the Markov property. We consider a discount factor $\\gamma \\in [0,1]$ that ensures convergence. The goal is to find among all the policies $\\pi$, one that maximizes the expected reward:\n",
    "\n",
    "\\begin{equation*}\n",
    "R(\\pi)=\\sum_{t\\leq T}E_{p^{\\pi}}[\\gamma^t r(s_{t},a_{t})] \\> ,\n",
    "\\end{equation*}\n",
    "\n",
    "where: \n",
    "\\begin{equation*}p^{\\pi}(a_{0},a_{1},s_{1},...,a_{T},s_{T})=p(a_{0})\\prod_{t=1}^{T}\\pi(a_{t}|s_{t})p(s_{t+1}|s_{t},a_{t}) \\> .\n",
    "\\end{equation*}\n",
    "\n",
    "We note the $Q$-function:\n",
    "\n",
    "\\begin{equation*}Q^\\pi(s,a)=E_{p^{\\pi}}[\\sum_{t\\leq T}\\gamma^{t}r(s_{t},a_{t})|s_{0}=s,a_{0}=a] \\> .\n",
    "\\end{equation*}\n",
    "\n",
    "Thus, the optimal Q function is:\n",
    "\\begin{equation*}\n",
    "Q^*(s,a)=\\max_{\\pi}Q^\\pi(s,a) \\> .\n",
    "\\end{equation*}\n",
    "\n",
    "In this project, we will apply the deep reinforcement learning techniques to a simple game: an agent will have to learn from scratch a policy that will permit it maximizing a reward."
   ]
  },
  {
   "cell_type": "markdown",
   "metadata": {},
   "source": [
    "## The environment, the agent and the game"
   ]
  },
  {
   "cell_type": "markdown",
   "metadata": {},
   "source": [
    "### The environment"
   ]
  },
  {
   "cell_type": "markdown",
   "metadata": {},
   "source": [
    "```Environment``` is an abstract class that represents the states, rewards, and actions to obtain the new state."
   ]
  },
  {
   "cell_type": "code",
   "execution_count": 4,
   "metadata": {
    "collapsed": true
   },
   "outputs": [],
   "source": [
    "class Environment(object):\n",
    "    def __init__(self):\n",
    "        pass\n",
    "\n",
    "    def act(self, act):\n",
    "        \"\"\"\n",
    "        One can act on the environment and obtain its reaction:\n",
    "        - the new state\n",
    "        - the reward of the new state\n",
    "        - should we continue the game?\n",
    "\n",
    "        :return: state, reward, game_over\n",
    "        \"\"\"\n",
    "        pass\n",
    "\n",
    "\n",
    "    def reset(self):\n",
    "        \"\"\"\n",
    "        Reinitialize the environment to a random state and returns\n",
    "        the original state\n",
    "\n",
    "        :return: state\n",
    "        \"\"\"\n",
    "        pass\n",
    "    \n",
    "    def draw(self):\n",
    "        \"\"\"\n",
    "        Visualize in the console or graphically the current state\n",
    "        \"\"\"\n",
    "        pass"
   ]
  },
  {
   "cell_type": "markdown",
   "metadata": {},
   "source": [
    "The method ```act``` allows to act on the environment at a given state $s_t$ (stored internally), via action $a_t$. The method will return the new state $s_{t+1}$, the reward $r(s_{t},a_{t})$ and determines if $t\\leq T$ (*game_over*).\n",
    "\n",
    "The method ```reset``` simply reinitializes the environment to a random state $s_0$.\n",
    "\n",
    "The method ```draw``` displays the current state $s_t$ (this is useful to check the behavior of the Agent).\n",
    "\n",
    "We modelize $s_t$ as a tensor, while $a_t$ is an integer."
   ]
  },
  {
   "cell_type": "markdown",
   "metadata": {},
   "source": [
    "### The Agent"
   ]
  },
  {
   "cell_type": "markdown",
   "metadata": {},
   "source": [
    "The goal of the ```Agent``` is to interact with the ```Environment``` by proposing actions $a_t$ obtained from a given state $s_t$ to attempt to maximize its __reward__ $r(s_t,a_t)$. We propose the following abstract class:"
   ]
  },
  {
   "cell_type": "code",
   "execution_count": 5,
   "metadata": {
    "collapsed": true
   },
   "outputs": [],
   "source": [
    "class Agent(object):\n",
    "    def __init__(self, epsilon=0.1, n_action=4):\n",
    "        self.epsilon = epsilon\n",
    "        self.n_action = n_action\n",
    "    \n",
    "    def set_epsilon(self,e):\n",
    "        self.epsilon = e\n",
    "\n",
    "    def act(self,s,train=True):\n",
    "        \"\"\" This function should return the next action to do:\n",
    "        an integer between 0 and 4 (not included) with a random exploration of epsilon\"\"\"\n",
    "        if train:\n",
    "            if np.random.rand() <= self.epsilon:\n",
    "                a = np.random.randint(0, self.n_action, size=1)[0]\n",
    "            else:\n",
    "                a = self.learned_act(s)\n",
    "        else: # in some cases, this can improve the performance.. remove it if poor performances\n",
    "            a = self.learned_act(s)\n",
    "\n",
    "        return a\n",
    "\n",
    "    def learned_act(self,s):\n",
    "        \"\"\" Act via the policy of the agent, from a given state s\n",
    "        it proposes an action a\"\"\"\n",
    "        pass\n",
    "\n",
    "    def reinforce(self, s, n_s, a, r, game_over_):\n",
    "        \"\"\" This function is the core of the learning algorithm. \n",
    "        It takes as an input the current state s_, the next state n_s_\n",
    "        the action a_ used to move from s_ to n_s_ and the reward r_.\n",
    "        \n",
    "        Its goal is to learn a policy.\n",
    "        \"\"\"\n",
    "        pass\n",
    "\n",
    "    def save(self):\n",
    "        \"\"\" This function returns basic stats if applicable: the\n",
    "        loss and/or the model\"\"\"\n",
    "        pass\n",
    "\n",
    "    def load(self):\n",
    "        \"\"\" This function allows to restore a model\"\"\"\n",
    "        pass"
   ]
  },
  {
   "cell_type": "markdown",
   "metadata": {},
   "source": [
    "***\n",
    "__Question 1__:\n",
    "Explain the function act. Why is ```epsilon``` essential?"
   ]
  },
  {
   "cell_type": "markdown",
   "metadata": {},
   "source": [
    "epsilon is essential because at the beginning of the first episode, when all the q-values have been reset, it is important to have high level of exploration to update the rewards expectations. So, if the epsilon is high, we will have an higher probability of randomly choosing the next action rather than using exploitation."
   ]
  },
  {
   "cell_type": "markdown",
   "metadata": {},
   "source": [
    "***\n",
    "### The Game"
   ]
  },
  {
   "cell_type": "markdown",
   "metadata": {},
   "source": [
    "The ```Agent``` and the ```Environment``` work in an interlaced way as in the following (take some time to understand this code as it is the core of the project)\n",
    "\n",
    "```python\n",
    "\n",
    "epoch = 300\n",
    "env = Environment()\n",
    "agent = Agent()\n",
    "\n",
    "\n",
    "# Number of won games\n",
    "score = 0\n",
    "loss = 0\n",
    "\n",
    "\n",
    "for e in range(epoch):\n",
    "    # At each epoch, we restart to a fresh game and get the initial state\n",
    "    state = env.reset()\n",
    "    # This assumes that the games will end\n",
    "    game_over = False\n",
    "\n",
    "    win = 0\n",
    "    lose = 0\n",
    "    \n",
    "    while not game_over:\n",
    "        # The agent performs an action\n",
    "        action = agent.act(state)\n",
    "\n",
    "        # Apply an action to the environment, get the next state, the reward\n",
    "        # and if the games end\n",
    "        prev_state = state\n",
    "        state, reward, game_over = env.act(action)\n",
    "\n",
    "        # Update the counters\n",
    "        if reward > 0:\n",
    "            win = win + reward\n",
    "        if reward < 0:\n",
    "            lose = lose -reward\n",
    "\n",
    "        # Apply the reinforcement strategy\n",
    "        loss = agent.reinforce(prev_state, state,  action, reward, game_over)\n",
    "\n",
    "    # Save as a mp4\n",
    "    if e % 10 == 0:\n",
    "        env.draw(e)\n",
    "\n",
    "    # Update stats\n",
    "    score += win-lose\n",
    "\n",
    "    print(\"Epoch {:03d}/{:03d} | Loss {:.4f} | Win/lose count {}/{} ({})\"\n",
    "          .format(e, epoch, loss, win, lose, win-lose))\n",
    "    agent.save()\n",
    "```"
   ]
  },
  {
   "cell_type": "markdown",
   "metadata": {},
   "source": [
    "# The game, *eat cheese*"
   ]
  },
  {
   "cell_type": "markdown",
   "metadata": {},
   "source": [
    "A rat runs on an island and tries to eat as much as possible. The island is subdivided into $N\\times N$ cells, in which there are cheese (+0.5) and poisonous cells (-1). The rat has a visibility of 2 cells (thus it can see $5^2$ cells). The rat is given a time $T$ to accumulate as much food as possible. It can perform 4 actions: going up, down, left, right. \n",
    "\n",
    "The goal is to code an agent to solve this task that will learn by trial and error. We propose the following environment:"
   ]
  },
  {
   "cell_type": "code",
   "execution_count": 6,
   "metadata": {
    "collapsed": true
   },
   "outputs": [],
   "source": [
    "class Environment(object):\n",
    "    def __init__(self, grid_size=10, max_time=500, temperature=0.1):\n",
    "        grid_size = grid_size+4\n",
    "        self.grid_size = grid_size\n",
    "        self.max_time = max_time\n",
    "        self.temperature = temperature\n",
    "\n",
    "        #board on which one plays\n",
    "        self.board = np.zeros((grid_size,grid_size))\n",
    "        self.position = np.zeros((grid_size,grid_size))\n",
    "\n",
    "        # coordinate of the cat\n",
    "        self.x = 0\n",
    "        self.y = 1\n",
    "\n",
    "        # self time\n",
    "        self.t = 0\n",
    "\n",
    "        self.scale=16\n",
    "\n",
    "        self.to_draw = np.zeros((max_time+2, grid_size*self.scale, grid_size*self.scale, 3))\n",
    "\n",
    "\n",
    "    def draw(self,e):\n",
    "        skvideo.io.vwrite(str(e) + '.mp4', self.to_draw)\n",
    "\n",
    "    def get_frame(self,t):\n",
    "        b = np.zeros((self.grid_size,self.grid_size,3))+128\n",
    "        b[self.board>0,0] = 256\n",
    "        b[self.board < 0, 2] = 256\n",
    "        b[self.x,self.y,:]=256\n",
    "        b[-2:,:,:]=0\n",
    "        b[:,-2:,:]=0\n",
    "        b[:2,:,:]=0\n",
    "        b[:,:2,:]=0\n",
    "        \n",
    "        b =  cv2.resize(b, None, fx=self.scale, fy=self.scale, interpolation=cv2.INTER_NEAREST)\n",
    "\n",
    "        self.to_draw[t,:,:,:]=b\n",
    "\n",
    "\n",
    "    def act(self, action):\n",
    "        \"\"\"This function returns the new state, reward and decides if the\n",
    "        game ends.\"\"\"\n",
    "\n",
    "        self.get_frame(int(self.t))\n",
    "\n",
    "        self.position = np.zeros((self.grid_size, self.grid_size))\n",
    "\n",
    "        self.position[0:2,:]= -1\n",
    "        self.position[:,0:2] = -1\n",
    "        self.position[-2:, :] = -1\n",
    "        self.position[-2:, :] = -1\n",
    "\n",
    "        self.position[self.x, self.y] = 1\n",
    "        if action == 0:\n",
    "            if self.x == self.grid_size-3:\n",
    "                self.x = self.x-1\n",
    "            else:\n",
    "                self.x = self.x + 1\n",
    "        elif action == 1:\n",
    "            if self.x == 2:\n",
    "                self.x = self.x+1\n",
    "            else:\n",
    "                self.x = self.x-1\n",
    "        elif action == 2:\n",
    "            if self.y == self.grid_size - 3:\n",
    "                self.y = self.y - 1\n",
    "            else:\n",
    "                self.y = self.y + 1\n",
    "        elif action == 3:\n",
    "            if self.y == 2:\n",
    "                self.y = self.y + 1\n",
    "            else:\n",
    "                self.y = self.y - 1\n",
    "        else:\n",
    "            RuntimeError('Error: action not recognized')\n",
    "\n",
    "        self.t = self.t + 1\n",
    "        reward = self.board[self.x, self.y]\n",
    "        self.board[self.x, self.y] = 0\n",
    "        game_over = self.t > self.max_time\n",
    "        state = np.concatenate((self.board.reshape(self.grid_size, self.grid_size,1),\n",
    "                        self.position.reshape(self.grid_size, self.grid_size,1)),axis=2)\n",
    "        state = state[self.x-2:self.x+3,self.y-2:self.y+3,:]\n",
    "\n",
    "        return state, reward, game_over\n",
    "\n",
    "    def reset(self):\n",
    "        \"\"\"This function resets the game and returns the initial state\"\"\"\n",
    "\n",
    "        self.x = np.random.randint(3, self.grid_size-3, size=1)[0]\n",
    "        self.y = np.random.randint(3, self.grid_size-3, size=1)[0]\n",
    "\n",
    "\n",
    "        bonus = 0.5*np.random.binomial(1,self.temperature,size=self.grid_size**2)\n",
    "        bonus = bonus.reshape(self.grid_size,self.grid_size)\n",
    "\n",
    "        malus = -1.0*np.random.binomial(1,self.temperature,size=self.grid_size**2)\n",
    "        malus = malus.reshape(self.grid_size, self.grid_size)\n",
    "\n",
    "        self.to_draw = np.zeros((self.max_time+2, self.grid_size*self.scale, self.grid_size*self.scale, 3))\n",
    "\n",
    "\n",
    "        malus[bonus>0]=0\n",
    "\n",
    "        self.board = bonus + malus\n",
    "\n",
    "        self.position = np.zeros((self.grid_size, self.grid_size))\n",
    "        self.position[0:2,:]= -1\n",
    "        self.position[:,0:2] = -1\n",
    "        self.position[-2:, :] = -1\n",
    "        self.position[-2:, :] = -1\n",
    "        self.board[self.x,self.y] = 0\n",
    "        self.t = 0\n",
    "\n",
    "        state = np.concatenate((\n",
    "                               self.board.reshape(self.grid_size, self.grid_size,1),\n",
    "                        self.position.reshape(self.grid_size, self.grid_size,1)),axis=2)\n",
    "\n",
    "        state = state[self.x - 2:self.x + 3, self.y - 2:self.y + 3, :]\n",
    "        return state"
   ]
  },
  {
   "cell_type": "markdown",
   "metadata": {},
   "source": [
    "The following elements are important because they correspond to the hyper parameters for this project:"
   ]
  },
  {
   "cell_type": "code",
   "execution_count": 48,
   "metadata": {},
   "outputs": [],
   "source": [
    "# parameters\n",
    "size = 13\n",
    "T=200\n",
    "temperature=0.3\n",
    "epochs_train=15 # set small when debugging\n",
    "epochs_test=15 # set small when debugging\n",
    "\n",
    "# display videos\n",
    "def display_videos(name):\n",
    "    video = io.open(name, 'r+b').read()\n",
    "    encoded = base64.b64encode(video)\n",
    "    return '''<video alt=\"test\" controls>\n",
    "                <source src=\"data:video/mp4;base64,{0}\" type=\"video/mp4\" />\n",
    "             </video>'''.format(encoded.decode('ascii'))"
   ]
  },
  {
   "cell_type": "markdown",
   "metadata": {},
   "source": [
    "__Question 2__ Explain the use of the arrays ```position``` and ```board```."
   ]
  },
  {
   "cell_type": "markdown",
   "metadata": {},
   "source": [
    "board is to gather the rewards linked to each cell of the board; they are first created in the bonus and malus arrays as a random values that assumes values of respectively 0.5 and -1. Also, malus is disregarded if a bonus is already found in the same cell.\n",
    "\n",
    "position assign to start with a value of 0 to all the elements in the board, then a value of -1 to a frame of dimension of 2 squares around the board, and finally a value of one for the square where the agent is found."
   ]
  },
  {
   "cell_type": "markdown",
   "metadata": {},
   "source": [
    "## Random Agent"
   ]
  },
  {
   "cell_type": "markdown",
   "metadata": {},
   "source": [
    "***\n",
    "__Question 3__ Implement a random Agent (only ```learned_act``` needs to be implemented):"
   ]
  },
  {
   "cell_type": "code",
   "execution_count": 9,
   "metadata": {
    "collapsed": true
   },
   "outputs": [],
   "source": [
    "class RandomAgent(Agent):\n",
    "    def __init__(self):\n",
    "        super(RandomAgent, self).__init__()\n",
    "        pass\n",
    "\n",
    "    def learned_act(self, s):\n",
    "        return rd.randint(0,3)"
   ]
  },
  {
   "cell_type": "markdown",
   "metadata": {},
   "source": [
    "***\n",
    "***\n",
    "__Question 4__ Visualize the game moves. You need to fill in the following function for the evaluation:"
   ]
  },
  {
   "cell_type": "code",
   "execution_count": 56,
   "metadata": {
    "collapsed": true
   },
   "outputs": [],
   "source": [
    "def test(agent,env,epochs,prefix=''):\n",
    "    # Number of won games\n",
    "    score = 0\n",
    "        \n",
    "    for e in range(epochs):\n",
    "        \n",
    "        # we reset the game\n",
    "        state = env.reset()\n",
    "        # set end game variable\n",
    "        game_over = False\n",
    "\n",
    "        win = 0\n",
    "        lose = 0\n",
    "\n",
    "        while not game_over:\n",
    "            # action of the agent\n",
    "            action = agent.learned_act(state)\n",
    "\n",
    "            # prompt environment, next game, reward\n",
    "            prev_state = state\n",
    "            state, reward, game_over = env.act(action)\n",
    "\n",
    "            # getting the rewards\n",
    "            if reward > 0:\n",
    "                win = win + reward\n",
    "            if reward < 0:\n",
    "                lose = lose -reward\n",
    "\n",
    "\n",
    "        env.draw(prefix+str(e))\n",
    "\n",
    "        # Update score\n",
    "        score = score + win-lose\n",
    "\n",
    "        print(\"Win/lose count {}/{}. Average score ({})\"\n",
    "              .format(win, lose, score/(1+e)))\n",
    "    print('Final score: '+str(score/epochs))"
   ]
  },
  {
   "cell_type": "code",
   "execution_count": 13,
   "metadata": {},
   "outputs": [
    {
     "name": "stdout",
     "output_type": "stream",
     "text": [
      "Win/lose count 11.0/19.0. Average score (-8.0)\n",
      "Win/lose count 7.5/15.0. Average score (-7.75)\n",
      "Win/lose count 10.5/15.0. Average score (-6.666666666666667)\n",
      "Win/lose count 13.5/20.0. Average score (-6.625)\n",
      "Win/lose count 10.5/11.0. Average score (-5.4)\n",
      "Win/lose count 11.5/13.0. Average score (-4.75)\n",
      "Win/lose count 10.5/20.0. Average score (-5.428571428571429)\n",
      "Win/lose count 6.0/8.0. Average score (-5.0)\n",
      "Win/lose count 13.5/17.0. Average score (-4.833333333333333)\n",
      "Win/lose count 12.0/16.0. Average score (-4.75)\n",
      "Win/lose count 13.5/12.0. Average score (-4.181818181818182)\n",
      "Win/lose count 7.5/17.0. Average score (-4.625)\n",
      "Win/lose count 6.5/13.0. Average score (-4.769230769230769)\n",
      "Win/lose count 15.0/12.0. Average score (-4.214285714285714)\n",
      "Win/lose count 9.0/19.0. Average score (-4.6)\n",
      "Win/lose count 11.5/16.0. Average score (-4.59375)\n",
      "Win/lose count 7.5/13.0. Average score (-4.647058823529412)\n",
      "Win/lose count 8.5/17.0. Average score (-4.861111111111111)\n",
      "Win/lose count 12.5/15.0. Average score (-4.7368421052631575)\n",
      "Win/lose count 8.0/12.0. Average score (-4.7)\n",
      "Final score: -4.7\n"
     ]
    },
    {
     "data": {
      "text/html": [
       "<video alt=\"test\" controls>\n",
       "                <source src=\"data:video/mp4;base64,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\" type=\"video/mp4\" />\n",
       "             </video>"
      ],
      "text/plain": [
       "<IPython.core.display.HTML object>"
      ]
     },
     "execution_count": 13,
     "metadata": {},
     "output_type": "execute_result"
    }
   ],
   "source": [
    "# Initialize the game\n",
    "env = Environment(grid_size=size, max_time=T,temperature=temperature)\n",
    "\n",
    "# Initialize the agent!\n",
    "agent = RandomAgent()\n",
    "\n",
    "test(agent,env,epochs_test,prefix='random')\n",
    "HTML(display_videos('random0.mp4'))"
   ]
  },
  {
   "cell_type": "markdown",
   "metadata": {},
   "source": [
    "***\n",
    "## DQN"
   ]
  },
  {
   "cell_type": "markdown",
   "metadata": {},
   "source": [
    "Let us assume here that $T=\\infty$.\n",
    "\n",
    "***\n",
    "__Question 5__ Let $\\pi$ be a policy, show that:\n",
    "\n",
    "\\begin{equation*}\n",
    "Q^{\\pi}(s,a)=E_{(s',a')\\sim p(.|s,a)}[r(s,a)+\\gamma Q^{\\pi}(s',a')]\n",
    "\\end{equation*}\n",
    "\n",
    "Then, show that for the optimal policy $\\pi^*$ (we assume its existence), the following holds: \n",
    "\n",
    "\\begin{equation*}\n",
    "Q^{*}(s,a)=E_{s'\\sim \\pi^*(.|s,a)}[r(s,a)+\\gamma\\max_{a'}Q^{*}(s',a')].\n",
    "\\end{equation*}\n",
    "Finally, deduce that a plausible objective is:\n",
    "\n",
    "\\begin{equation*}\n",
    "\\mathcal{L}(\\theta)=E_{s' \\sim \\pi^*(.|s,a)}\\Vert r+\\gamma\\max\\max_{a'}Q(s',a',\\theta)-Q(s,a,\\theta)\\Vert^{2}.\n",
    "\\end{equation*}\n",
    "\n",
    "\n"
   ]
  },
  {
   "cell_type": "markdown",
   "metadata": {},
   "source": []
  },
  {
   "cell_type": "markdown",
   "metadata": {},
   "source": [
    "***\n",
    "The DQN-learning algorithm relies on these derivations to train the parameters $\\theta$ of a Deep Neural Network:\n",
    "\n",
    "1. At the state $s_t$, select the action $a_t$ with best reward using $Q_t$ and store the results;\n",
    "\n",
    "2. Obtain the new state $s_{t+1}$ from the environment $p$;\n",
    "\n",
    "3. Store $(s_t,a_t,s_{t+1})$;\n",
    "\n",
    "4. Obtain $Q_{t+1}$ by minimizing  $\\mathcal{L}$ from a recovered batch from the previously stored results.\n",
    "\n",
    "***\n",
    "__Question 6__ Implement the class ```Memory``` that stores moves (in a replay buffer) via ```remember``` and provides a ```random_access``` to these. Specify a maximum memory size to avoid side effects. You can for example use a ```list()``` and set by default ```max_memory=100```."
   ]
  },
  {
   "cell_type": "code",
   "execution_count": 31,
   "metadata": {
    "collapsed": true
   },
   "outputs": [],
   "source": [
    "class Memory(object):\n",
    "    def __init__(self, max_memory=100):\n",
    "        self.max_memory = max_memory\n",
    "        self.memory = list()\n",
    "        \n",
    "         \n",
    "    def remember(self, m):\n",
    "        \n",
    "        if len(self.memory) <= self.max_memory:\n",
    "            self.memory.append(m)\n",
    "        \n",
    "\n",
    "    def random_access(self):\n",
    "        move = rd.randint(0,len(self.memory)-1)\n",
    "        return self.memory[move]\n",
    "    "
   ]
  },
  {
   "cell_type": "markdown",
   "metadata": {},
   "source": [
    "***\n",
    "The pipeline we will use for training is given below:"
   ]
  },
  {
   "cell_type": "code",
   "execution_count": 26,
   "metadata": {
    "collapsed": true
   },
   "outputs": [],
   "source": [
    "def train(agent,env,epoch,prefix=''):\n",
    "    # Number of won games\n",
    "    score = 0\n",
    "    loss = 0\n",
    "\n",
    "    for e in range(epoch):\n",
    "        # At each epoch, we restart to a fresh game and get the initial state\n",
    "        state = env.reset()\n",
    "        # This assumes that the games will terminate\n",
    "        game_over = False\n",
    "\n",
    "        win = 0\n",
    "        lose = 0\n",
    "\n",
    "        while not game_over:\n",
    "            # The agent performs an action\n",
    "            action = agent.act(state)\n",
    "\n",
    "            # Apply an action to the environment, get the next state, the reward\n",
    "            # and if the games end\n",
    "            prev_state = state\n",
    "            state, reward, game_over = env.act(action)\n",
    "\n",
    "            # Update the counters\n",
    "            if reward > 0:\n",
    "                win = win + reward\n",
    "            if reward < 0:\n",
    "                lose = lose -reward\n",
    "\n",
    "            # Apply the reinforcement strategy\n",
    "            loss = agent.reinforce(prev_state, state,  action, reward, game_over)\n",
    "\n",
    "        # Save as a mp4\n",
    "        env.draw(prefix+str(e))\n",
    "\n",
    "        # Update stats\n",
    "        score += win-lose\n",
    "\n",
    "        print(\"Epoch {:03d}/{:03d} | Loss {:.4f} | Win/lose count {}/{} ({})\"\n",
    "              .format(e, epoch, loss, win, lose, win-lose))\n",
    "        agent.save(name_weights=prefix+'model.h5',name_model=prefix+'model.json')\n",
    "        \n",
    "    print('Final score: '+str(score/epoch))"
   ]
  },
  {
   "cell_type": "markdown",
   "metadata": {},
   "source": [
    "***\n",
    "__Question 7__ Implement the DQN training algorithm using a cascade of fully connected layers. You can use different learning rate, batch size or memory size parameters. In particular, the loss might oscillate while the player will start to win the games. You have to find a good criterium."
   ]
  },
  {
   "cell_type": "code",
   "execution_count": 27,
   "metadata": {
    "collapsed": true
   },
   "outputs": [],
   "source": [
    "class DQN(Agent):\n",
    "    def __init__(self, grid_size,  epsilon = 0.1, memory_size=100, batch_size = 16,n_state=2):\n",
    "        super(DQN, self).__init__(epsilon = epsilon)\n",
    "\n",
    "        # Discount for Q learning\n",
    "        self.discount = 0.99\n",
    "        \n",
    "        self.grid_size = grid_size\n",
    "        \n",
    "        # number of state\n",
    "        self.n_state = n_state\n",
    "\n",
    "        # Memory\n",
    "        self.memory = Memory(memory_size)\n",
    "        \n",
    "        # Batch size when learning\n",
    "        self.batch_size = batch_size\n",
    "    \n",
    "\n",
    "    def learned_act(self, s):\n",
    "        \n",
    "        s = np.reshape(s,[1,5,5,self.n_state])\n",
    "        # Predict the reward value based on the given state\n",
    "        act_values = self.model.predict(s)\n",
    "        return np.argmax(act_values[0])\n",
    "\n",
    "    def reinforce(self, s_, n_s_, a_, r_, game_over_):\n",
    "        # Two steps: first memorize the states, second learn from the pool\n",
    "        \n",
    "        s_ = np.reshape(s_,[1,5,5,self.n_state])\n",
    "        n_s_ = np.reshape(n_s_,[1,5,5,self.n_state])\n",
    "        \n",
    "        self.memory.remember([s_, n_s_, a_, r_, game_over_])\n",
    "        \n",
    "        input_states = np.zeros((self.batch_size, 5,5,self.n_state))\n",
    "        target_q = np.zeros((self.batch_size, 4))\n",
    "\n",
    "        for i in range(self.batch_size):\n",
    "            target = r_\n",
    "            minibatch = self.memory.random_access()\n",
    "            \n",
    "            s_= minibatch[0]\n",
    "            n_s_= minibatch[1]\n",
    "            a_ = minibatch[2]\n",
    "            r_= minibatch[3]\n",
    "            game_over_= minibatch[4]\n",
    "            \n",
    "            input_states[i]= s_\n",
    "            \n",
    "            if game_over_:\n",
    "            ######## FILL IN\n",
    "                target= r_\n",
    "\n",
    "            else:               \n",
    "                target = (r_ + self.discount * np.amax(self.model.predict(n_s_)[0]))\n",
    "                \n",
    "            target_f = self.model.predict(s_)\n",
    "            target_f[0][a_] = target\n",
    "            self.model.fit(s_, target_f, epochs=1, verbose=0)\n",
    "            \n",
    "            target_q[i]=target_f\n",
    "            \n",
    "        # HINT: Clip the target to avoid exploiding gradients.. -- clipping is a bit tighter\n",
    "        target_q = np.clip(target_q, -3, 3)\n",
    "\n",
    "        l = self.model.train_on_batch(input_states, target_q)\n",
    "\n",
    "        return l\n",
    "\n",
    "    def save(self,name_weights='model.h5',name_model='model.json'):\n",
    "        self.model.save_weights(name_weights, overwrite=True)\n",
    "        with open(name_model, \"w\") as outfile:\n",
    "            json.dump(self.model.to_json(), outfile)\n",
    "            \n",
    "    def load(self,name_weights='model.h5',name_model='model.json'):\n",
    "        with open(name_model, \"r\") as jfile:\n",
    "            model = model_from_json(json.load(jfile))\n",
    "        model.load_weights(name_weights)\n",
    "        model.compile(\"sgd\", \"mse\")\n",
    "        self.model = model\n",
    "\n",
    "            \n",
    "\n",
    "class DQN_FC(DQN):\n",
    "    def __init__(self, lr=0.1,  *args, **kwargs):\n",
    "        super(DQN_FC, self).__init__(*args,**kwargs)\n",
    "        \n",
    "        # NN Model\n",
    "        ####### FILL IN\n",
    "        state_size = 50\n",
    "        \n",
    "        model = Sequential()\n",
    "        model.add(Reshape((state_size,), input_shape=(5,5,self.n_state)))\n",
    "        model.add(Dense(512, input_dim=state_size, activation='relu'))\n",
    "        model.add(Dense(128, activation='relu'))\n",
    "        model.add(Dense(4, activation='linear'))\n",
    "\n",
    "        model.compile(loss='mse', optimizer=Adam(lr=lr))\n",
    "        self.model = model"
   ]
  },
  {
   "cell_type": "code",
   "execution_count": 32,
   "metadata": {
    "collapsed": true
   },
   "outputs": [
    {
     "name": "stdout",
     "output_type": "stream",
     "text": [
      "Epoch 000/020 | Loss 9.2802 | Win/lose count 4.5/5.0 (-0.5)\n",
      "Epoch 001/020 | Loss 1.6048 | Win/lose count 4.0/6.0 (-2.0)\n",
      "Epoch 002/020 | Loss 0.1605 | Win/lose count 13.0/18.0 (-5.0)\n",
      "Epoch 003/020 | Loss 0.4560 | Win/lose count 6.5/12.0 (-5.5)\n",
      "Epoch 004/020 | Loss 0.4648 | Win/lose count 4.0/11.0 (-7.0)\n",
      "Epoch 005/020 | Loss 0.6275 | Win/lose count 7.5/8.0 (-0.5)\n",
      "Epoch 006/020 | Loss 0.4766 | Win/lose count 8.5/17.0 (-8.5)\n",
      "Epoch 007/020 | Loss 0.0348 | Win/lose count 12.5/27.0 (-14.5)\n",
      "Epoch 008/020 | Loss 0.0321 | Win/lose count 7.5/15.0 (-7.5)\n",
      "Epoch 009/020 | Loss 0.1072 | Win/lose count 6.5/6.0 (0.5)\n",
      "Epoch 010/020 | Loss 0.2670 | Win/lose count 11.5/7.0 (4.5)\n",
      "Epoch 011/020 | Loss 0.4786 | Win/lose count 8.0/10.0 (-2.0)\n",
      "Epoch 012/020 | Loss 0.4422 | Win/lose count 11.0/4.0 (7.0)\n",
      "Epoch 013/020 | Loss 0.4401 | Win/lose count 11.0/12.0 (-1.0)\n",
      "Epoch 014/020 | Loss 0.1659 | Win/lose count 4.0/9.0 (-5.0)\n",
      "Epoch 015/020 | Loss 0.0660 | Win/lose count 8.5/13.0 (-4.5)\n",
      "Epoch 016/020 | Loss 0.5317 | Win/lose count 8.0/13.0 (-5.0)\n",
      "Epoch 017/020 | Loss 0.0420 | Win/lose count 8.0/11.0 (-3.0)\n",
      "Epoch 018/020 | Loss 0.6491 | Win/lose count 6.0/14.0 (-8.0)\n",
      "Epoch 019/020 | Loss 0.0597 | Win/lose count 7.5/8.0 (-0.5)\n",
      "Final score: -3.4\n"
     ]
    },
    {
     "data": {
      "text/html": [
       "<video alt=\"test\" controls>\n",
       "                <source src=\"data:video/mp4;base64,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\" type=\"video/mp4\" />\n",
       "             </video>"
      ],
      "text/plain": [
       "<IPython.core.display.HTML object>"
      ]
     },
     "execution_count": 32,
     "metadata": {},
     "output_type": "execute_result"
    }
   ],
   "source": [
    "env = Environment(grid_size=size, max_time=T, temperature=0.3)\n",
    "agent = DQN_FC(lr=0.1, grid_size=size, epsilon = 0.1, memory_size=2000, batch_size = 32)\n",
    "train(agent, env, epochs_train, prefix='fc_train')\n",
    "HTML(display_videos('fc_train0.mp4'))"
   ]
  },
  {
   "cell_type": "markdown",
   "metadata": {},
   "source": [
    "***\n",
    "***\n",
    "__Question 8__ Implement the DQN training algorithm using a CNN (for example, 2 convolutional layers and one final fully connected layer)."
   ]
  },
  {
   "cell_type": "code",
   "execution_count": 34,
   "metadata": {
    "collapsed": true
   },
   "outputs": [],
   "source": [
    "class DQN_CNN(DQN):\n",
    "    def __init__(self, lr=0.1, *args,**kwargs):\n",
    "        super(DQN_CNN, self).__init__(*args,**kwargs)\n",
    "        \n",
    "        filters = 32\n",
    "        kernel_size = (2,2)\n",
    "        \n",
    "        model = Sequential()\n",
    "        model.add(Conv2D(filters, kernel_size, input_shape=(5,5,self.n_state), activation='relu'))\n",
    "        model.add(Conv2D(filters, kernel_size, activation='relu'))\n",
    "        model.add(Dropout(0.2))\n",
    "        model.add(Flatten())\n",
    "        model.add(Dense(4, activation='linear'))\n",
    "        model.compile(sgd(lr=lr, decay=1e-4, momentum=0.0), \"mse\")\n",
    "        self.model = model"
   ]
  },
  {
   "cell_type": "code",
   "execution_count": 39,
   "metadata": {
    "collapsed": true
   },
   "outputs": [
    {
     "name": "stdout",
     "output_type": "stream",
     "text": [
      "Epoch 000/020 | Loss 0.0117 | Win/lose count 4.5/8.0 (-3.5)\n",
      "Epoch 001/020 | Loss 0.0068 | Win/lose count 3.5/6.0 (-2.5)\n",
      "Epoch 002/020 | Loss 0.0735 | Win/lose count 6.5/3.0 (3.5)\n",
      "Epoch 003/020 | Loss 0.0638 | Win/lose count 9.0/2.0 (7.0)\n",
      "Epoch 004/020 | Loss 0.1472 | Win/lose count 11.5/2.0 (9.5)\n",
      "Epoch 005/020 | Loss 0.1314 | Win/lose count 16.5/6.0 (10.5)\n",
      "Epoch 006/020 | Loss 0.1264 | Win/lose count 12.0/3.0 (9.0)\n",
      "Epoch 007/020 | Loss 0.1679 | Win/lose count 17.5/4.0 (13.5)\n",
      "Epoch 008/020 | Loss 0.2102 | Win/lose count 21.5/1.0 (20.5)\n",
      "Epoch 009/020 | Loss 0.1889 | Win/lose count 14.0/2.0 (12.0)\n",
      "Epoch 010/020 | Loss 0.1899 | Win/lose count 18.5/4.0 (14.5)\n",
      "Epoch 011/020 | Loss 0.2885 | Win/lose count 12.5/3.0 (9.5)\n",
      "Epoch 012/020 | Loss 0.3340 | Win/lose count 18.5/3.0 (15.5)\n",
      "Epoch 013/020 | Loss 0.3406 | Win/lose count 10.0/5.0 (5.0)\n",
      "Epoch 014/020 | Loss 0.2860 | Win/lose count 14.5/5.0 (9.5)\n",
      "Epoch 015/020 | Loss 0.2984 | Win/lose count 6.5/0 (6.5)\n",
      "Epoch 016/020 | Loss 0.3355 | Win/lose count 11.0/8.0 (3.0)\n",
      "Epoch 017/020 | Loss 0.3178 | Win/lose count 27.5/5.0 (22.5)\n",
      "Epoch 018/020 | Loss 0.3999 | Win/lose count 14.5/6.0 (8.5)\n",
      "Epoch 019/020 | Loss 0.3400 | Win/lose count 13.0/4.0 (9.0)\n",
      "Final score: 9.15\n"
     ]
    },
    {
     "data": {
      "text/html": [
       "<video alt=\"test\" controls>\n",
       "                <source src=\"data:video/mp4;base64,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\" type=\"video/mp4\" />\n",
       "             </video>"
      ],
      "text/plain": [
       "<IPython.core.display.HTML object>"
      ]
     },
     "execution_count": 39,
     "metadata": {},
     "output_type": "execute_result"
    }
   ],
   "source": [
    "env = Environment(grid_size=size, max_time=T, temperature=0.3)\n",
    "agent = DQN_CNN(lr=.1, grid_size = size, epsilon = 0.1, memory_size=2000, batch_size = 32)\n",
    "train(agent,env,epochs_train,prefix='cnn_train')\n",
    "HTML(display_videos('cnn_train0.mp4'))"
   ]
  },
  {
   "cell_type": "markdown",
   "metadata": {},
   "source": [
    "***\n",
    "***\n",
    "__Question 9__ Test both algorithms and compare their performances. Which issue(s) do you observe? Observe also different behaviors by changing the temperature."
   ]
  },
  {
   "cell_type": "code",
   "execution_count": 40,
   "metadata": {
    "collapsed": true
   },
   "outputs": [
    {
     "name": "stdout",
     "output_type": "stream",
     "text": [
      "\n",
      "Test of the CNN\n",
      "Win/lose count 15.5/1.0. Average score (14.5)\n",
      "Win/lose count 2.0/0. Average score (8.25)\n",
      "Win/lose count 10.0/1.0. Average score (8.5)\n",
      "Win/lose count 5.0/0. Average score (7.625)\n",
      "Win/lose count 2.0/0. Average score (6.5)\n",
      "Win/lose count 4.5/0. Average score (6.166666666666667)\n",
      "Win/lose count 1.0/0. Average score (5.428571428571429)\n",
      "Win/lose count 2.0/1.0. Average score (4.875)\n",
      "Win/lose count 13.0/1.0. Average score (5.666666666666667)\n",
      "Win/lose count 3.5/0. Average score (5.45)\n",
      "Win/lose count 11.5/0. Average score (6.0)\n",
      "Win/lose count 8.5/1.0. Average score (6.125)\n",
      "Win/lose count 13.5/1.0. Average score (6.615384615384615)\n",
      "Win/lose count 4.0/0. Average score (6.428571428571429)\n",
      "Win/lose count 8.5/0. Average score (6.566666666666666)\n",
      "Win/lose count 16.5/0. Average score (7.1875)\n",
      "Win/lose count 1.0/0. Average score (6.823529411764706)\n",
      "Win/lose count 13.0/2.0. Average score (7.055555555555555)\n",
      "Win/lose count 11.5/1.0. Average score (7.2368421052631575)\n",
      "Win/lose count 6.0/2.0. Average score (7.075)\n",
      "Final score: 7.075\n",
      "\n",
      "Test of the FC\n",
      "Win/lose count 1.0/4.0. Average score (-3.0)\n",
      "Win/lose count 0.5/0. Average score (-1.25)\n",
      "Win/lose count 1.5/4.0. Average score (-1.6666666666666667)\n",
      "Win/lose count 0/1.0. Average score (-1.5)\n",
      "Win/lose count 1.0/2.0. Average score (-1.4)\n",
      "Win/lose count 0.5/0. Average score (-1.0833333333333333)\n",
      "Win/lose count 1.5/2.0. Average score (-1.0)\n",
      "Win/lose count 0.5/0. Average score (-0.8125)\n",
      "Win/lose count 0/0. Average score (-0.7222222222222222)\n",
      "Win/lose count 0/1.0. Average score (-0.75)\n",
      "Win/lose count 0.5/1.0. Average score (-0.7272727272727273)\n",
      "Win/lose count 2.0/2.0. Average score (-0.6666666666666666)\n",
      "Win/lose count 0.5/2.0. Average score (-0.7307692307692307)\n",
      "Win/lose count 2.0/0. Average score (-0.5357142857142857)\n",
      "Win/lose count 0.5/2.0. Average score (-0.6)\n",
      "Win/lose count 0/1.0. Average score (-0.625)\n",
      "Win/lose count 1.5/3.0. Average score (-0.6764705882352942)\n",
      "Win/lose count 0.5/1.0. Average score (-0.6666666666666666)\n",
      "Win/lose count 0/1.0. Average score (-0.6842105263157895)\n",
      "Win/lose count 1.0/2.0. Average score (-0.7)\n",
      "Final score: -0.7\n"
     ]
    }
   ],
   "source": [
    "env = Environment(grid_size=size, max_time=T,temperature=0.3)\n",
    "agent_cnn = DQN_CNN(lr=.1, grid_size=size, epsilon = 0.1, memory_size=2000, batch_size = 32)\n",
    "agent_cnn.load(name_weights='cnn_trainmodel.h5',name_model='cnn_trainmodel.json')\n",
    "\n",
    "agent_fc = DQN_FC(lr=.1, grid_size=size, epsilon = 0.1, memory_size=2000, batch_size = 32)\n",
    "agent_fc.load(name_weights='fc_trainmodel.h5',name_model='fc_trainmodel.json')\n",
    "print('\\nTest of the CNN')\n",
    "test(agent_cnn,env,epochs_test,prefix='cnn_test')\n",
    "print('\\nTest of the FC')\n",
    "test(agent_fc,env,epochs_test,prefix='fc_test')"
   ]
  },
  {
   "cell_type": "code",
   "execution_count": 41,
   "metadata": {
    "collapsed": true
   },
   "outputs": [
    {
     "data": {
      "text/html": [
       "<video alt=\"test\" controls>\n",
       "                <source src=\"data:video/mp4;base64,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\" type=\"video/mp4\" />\n",
       "             </video>"
      ],
      "text/plain": [
       "<IPython.core.display.HTML object>"
      ]
     },
     "execution_count": 41,
     "metadata": {},
     "output_type": "execute_result"
    }
   ],
   "source": [
    "HTML(display_videos('cnn_test10.mp4'))"
   ]
  },
  {
   "cell_type": "code",
   "execution_count": 42,
   "metadata": {
    "collapsed": true
   },
   "outputs": [
    {
     "data": {
      "text/html": [
       "<video alt=\"test\" controls>\n",
       "                <source src=\"data:video/mp4;base64,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\" type=\"video/mp4\" />\n",
       "             </video>"
      ],
      "text/plain": [
       "<IPython.core.display.HTML object>"
      ]
     },
     "execution_count": 42,
     "metadata": {},
     "output_type": "execute_result"
    }
   ],
   "source": [
    "HTML(display_videos('fc_test10.mp4'))"
   ]
  },
  {
   "cell_type": "markdown",
   "metadata": {},
   "source": [
    "\n",
    "The results of the CNN are better then those of the FC.\n",
    "If we change the temperaure the final score improves.\n"
   ]
  },
  {
   "cell_type": "markdown",
   "metadata": {},
   "source": [
    "***\n",
    "\n",
    "The algorithm tends to not explore the map which can be an issue. We propose two ideas in order to encourage exploration:\n",
    "1. Incorporating a decreasing $\\epsilon$-greedy exploration. You can use the method ```set_epsilon```\n",
    "2. Append via the environment a new state that describes if a cell has been visited or not\n",
    "\n",
    "***\n",
    "__Question 10__ Design a new ```train_explore``` function and environment class ```EnvironmentExploring``` to tackle the issue of exploration.\n",
    "\n"
   ]
  },
  {
   "cell_type": "code",
   "execution_count": 54,
   "metadata": {
    "collapsed": true
   },
   "outputs": [],
   "source": [
    "def train_explore(agent,env,epoch,prefix='', eps_final = 0.1, decay_rate = 0.0005):\n",
    "    \"\"\"\n",
    "    This training scheme relies on a decaying epsilon for the epsilon-greedy policy, we start with a high epsilon (great exploration) and\n",
    "    anneal it down to eps_final (great exploitation).\n",
    "    \"\"\"\n",
    "    # Number of won games\n",
    "    score = 0\n",
    "    loss = 0\n",
    "    eps_start = agent.epsilon\n",
    "    step = 0\n",
    "\n",
    "    for e in range(epoch):\n",
    "        # At each epoch, we restart to a fresh game and get the initial state\n",
    "        state = env.reset()\n",
    "        # This assumes that the games will terminate\n",
    "        game_over = False\n",
    "\n",
    "        win = 0\n",
    "        lose = 0\n",
    "\n",
    "        while not game_over:\n",
    "            # The agent performs an action\n",
    "            action = agent.act(state)\n",
    "            eps = eps_final + (eps_start - eps_final)*np.exp(-step*decay_rate)\n",
    "            step += 1\n",
    "            agent.set_epsilon(eps)\n",
    "\n",
    "            # Apply an action to the environment, get the next state, the reward\n",
    "            # and if the games end\n",
    "            prev_state = state\n",
    "            state, reward, game_over = env.act(action)\n",
    "            reward -= env.malus_position[env.x, env.y] # In the training process, we penalize the agent for visiting previously visited cells.\n",
    "\n",
    "            # Update the counters\n",
    "            if reward > 0:\n",
    "                win = win + reward\n",
    "            elif reward < 0:\n",
    "                lose = lose -reward\n",
    "\n",
    "            # Apply the reinforcement strategy\n",
    "            loss = agent.reinforce(prev_state, state,  action, reward, game_over)\n",
    "\n",
    "        # Save as a mp4\n",
    "        if (e + 1) % 10 == 0:\n",
    "            env.draw(prefix+str(e + 1))\n",
    "\n",
    "        # Update stats\n",
    "        score += win-lose\n",
    "\n",
    "        print(\"Epoch {:03d}/{:03d} | Loss {:.4f} | Win/lose count {:.1f}/{:.1f} ({}) | explore_proba {:.2f}\"\n",
    "              .format(e, epoch, loss, win, lose, win-lose, eps))\n",
    "        agent.save(name_weights=prefix+'model.h5',name_model=prefix+'model.json')\n",
    "        \n",
    "class EnvironmentExploring(object):\n",
    "    def __init__(self, grid_size=10, max_time=500, temperature=0.1):\n",
    "        grid_size = grid_size + 4\n",
    "        self.grid_size = grid_size\n",
    "        self.max_time = max_time\n",
    "        self.temperature = temperature\n",
    "\n",
    "        #board on which one plays\n",
    "        self.board = np.zeros((grid_size,grid_size))\n",
    "        self.position = np.zeros((grid_size,grid_size))\n",
    "        self.malus_position = np.zeros((grid_size,grid_size))\n",
    "\n",
    "        # coordinate of the rat\n",
    "        self.x = 0\n",
    "        self.y = 1\n",
    "\n",
    "        # self time\n",
    "        self.t = 0\n",
    "\n",
    "        self.scale = 16\n",
    "\n",
    "        self.to_draw = np.zeros((max_time + 2, grid_size*self.scale, grid_size*self.scale, 3))\n",
    "\n",
    "\n",
    "    def draw(self,e):\n",
    "        skvideo.io.vwrite(str(e) + '.mp4', self.to_draw)\n",
    "\n",
    "    def get_frame(self,t):\n",
    "        b = np.zeros((self.grid_size,self.grid_size,3))+128\n",
    "        b[self.board>0,0] = 256\n",
    "        b[self.board < 0, 2] = 256\n",
    "        b[self.x,self.y,:]=256\n",
    "        b[-2:,:,:]=0\n",
    "        b[:,-2:,:]=0\n",
    "        b[:2,:,:]=0\n",
    "        b[:,:2,:]=0\n",
    "        \n",
    "        b =  cv2.resize(b, None, fx=self.scale, fy=self.scale, interpolation=cv2.INTER_NEAREST)\n",
    "\n",
    "        self.to_draw[t,:,:,:]=b\n",
    "\n",
    "\n",
    "    def act(self, action):\n",
    "        \"\"\"This function returns the new state, reward and decides if the\n",
    "        game ends.\"\"\"\n",
    "\n",
    "        self.get_frame(int(self.t))\n",
    "\n",
    "        self.position = np.zeros((self.grid_size, self.grid_size))\n",
    "\n",
    "        self.position[0:2,:]= -1\n",
    "        self.position[:,0:2] = -1\n",
    "        self.position[-2:, :] = -1\n",
    "        self.position[-2:, :] = -1\n",
    "\n",
    "        self.position[self.x, self.y] = 1\n",
    "        if action == 0:\n",
    "            if self.x == self.grid_size-3:\n",
    "                self.x = self.x-1\n",
    "            else:\n",
    "                self.x = self.x + 1\n",
    "        elif action == 1:\n",
    "            if self.x == 2:\n",
    "                self.x = self.x+1\n",
    "            else:\n",
    "                self.x = self.x-1\n",
    "        elif action == 2:\n",
    "            if self.y == self.grid_size - 3:\n",
    "                self.y = self.y - 1\n",
    "            else:\n",
    "                self.y = self.y + 1\n",
    "        elif action == 3:\n",
    "            if self.y == 2:\n",
    "                self.y = self.y + 1\n",
    "            else:\n",
    "                self.y = self.y - 1\n",
    "        else:\n",
    "            RuntimeError('Error: action not recognized')\n",
    "\n",
    "        self.t = self.t + 1\n",
    "        self.malus_position[self.x, self.y] = 0.1 # each previously visited cell holds a negative reward now.\n",
    "        reward = self.board[self.x, self.y]\n",
    "        self.board[self.x, self.y] = 0\n",
    "        game_over = self.t > self.max_time\n",
    "        state = np.concatenate((self.malus_position.reshape(self.grid_size, self.grid_size,1),\n",
    "                        self.board.reshape(self.grid_size, self.grid_size,1),\n",
    "                        self.position.reshape(self.grid_size, self.grid_size,1)),axis=2) # The information about previously visited states is now incorporated into the state representation.\n",
    "        state = state[self.x-2:self.x+3,self.y-2:self.y+3,:]\n",
    "\n",
    "        return state, reward, game_over\n",
    "\n",
    "    def reset(self):\n",
    "        \"\"\"This function resets the game and returns the initial state\"\"\"\n",
    "\n",
    "        self.x = np.random.randint(3, self.grid_size-3, size=1)[0]\n",
    "        self.y = np.random.randint(3, self.grid_size-3, size=1)[0]\n",
    "\n",
    "\n",
    "        bonus = 0.5*np.random.binomial(1,self.temperature,size=self.grid_size**2)\n",
    "        bonus = bonus.reshape(self.grid_size,self.grid_size)\n",
    "\n",
    "        malus = -1.0*np.random.binomial(1,self.temperature,size=self.grid_size**2)\n",
    "        malus = malus.reshape(self.grid_size, self.grid_size)\n",
    "\n",
    "        self.to_draw = np.zeros((self.max_time+2, self.grid_size*self.scale, self.grid_size*self.scale, 3))\n",
    "\n",
    "\n",
    "        malus[bonus>0]=0\n",
    "\n",
    "        self.board = bonus + malus\n",
    "        \n",
    "        self.malus_position = np.zeros((self.grid_size,self.grid_size))\n",
    "        self.malus_position[self.x, self.y] = 0.1\n",
    "        self.position = np.zeros((self.grid_size, self.grid_size))\n",
    "        self.position[0:2,:]= -1\n",
    "        self.position[:,0:2] = -1\n",
    "        self.position[-2:, :] = -1\n",
    "        self.position[-2:, :] = -1\n",
    "        self.board[self.x,self.y] = 0\n",
    "        self.t = 0\n",
    "\n",
    "        state = np.concatenate((self.malus_position.reshape(self.grid_size, self.grid_size,1),\n",
    "                               self.board.reshape(self.grid_size, self.grid_size,1),\n",
    "                        self.position.reshape(self.grid_size, self.grid_size,1)),axis=2)\n",
    "\n",
    "        state = state[self.x - 2:self.x + 3, self.y - 2:self.y + 3, :]\n",
    "        return state"
   ]
  },
  {
   "cell_type": "code",
   "execution_count": 55,
   "metadata": {
    "collapsed": true
   },
   "outputs": [
    {
     "ename": "TypeError",
     "evalue": "__init__() got multiple values for argument 'lr'",
     "output_type": "error",
     "traceback": [
      "\u001b[0;31m---------------------------------------------------------------------------\u001b[0m",
      "\u001b[0;31mTypeError\u001b[0m                                 Traceback (most recent call last)",
      "\u001b[0;32m<ipython-input-55-e222d27f7d85>\u001b[0m in \u001b[0;36m<module>\u001b[0;34m\u001b[0m\n\u001b[1;32m      8\u001b[0m \u001b[0;34m\u001b[0m\u001b[0m\n\u001b[1;32m      9\u001b[0m \u001b[0menv\u001b[0m \u001b[0;34m=\u001b[0m \u001b[0mEnvironmentExploring\u001b[0m\u001b[0;34m(\u001b[0m\u001b[0mgrid_size\u001b[0m\u001b[0;34m=\u001b[0m\u001b[0msize\u001b[0m\u001b[0;34m,\u001b[0m \u001b[0mmax_time\u001b[0m\u001b[0;34m=\u001b[0m\u001b[0mT\u001b[0m\u001b[0;34m,\u001b[0m \u001b[0mtemperature\u001b[0m\u001b[0;34m=\u001b[0m\u001b[0;36m0.3\u001b[0m\u001b[0;34m)\u001b[0m\u001b[0;34m\u001b[0m\u001b[0;34m\u001b[0m\u001b[0m\n\u001b[0;32m---> 10\u001b[0;31m \u001b[0magent\u001b[0m \u001b[0;34m=\u001b[0m \u001b[0mDQN_FC\u001b[0m\u001b[0;34m(\u001b[0m\u001b[0msize\u001b[0m\u001b[0;34m,\u001b[0m \u001b[0mlr\u001b[0m\u001b[0;34m=\u001b[0m\u001b[0;36m1e-3\u001b[0m\u001b[0;34m,\u001b[0m \u001b[0mepsilon\u001b[0m \u001b[0;34m=\u001b[0m \u001b[0;36m0.9\u001b[0m\u001b[0;34m,\u001b[0m \u001b[0mmemory_size\u001b[0m\u001b[0;34m=\u001b[0m\u001b[0;36m2000\u001b[0m\u001b[0;34m,\u001b[0m \u001b[0mbatch_size\u001b[0m \u001b[0;34m=\u001b[0m \u001b[0;36m32\u001b[0m\u001b[0;34m,\u001b[0m \u001b[0mn_state\u001b[0m\u001b[0;34m=\u001b[0m\u001b[0;36m3\u001b[0m\u001b[0;34m)\u001b[0m\u001b[0;34m\u001b[0m\u001b[0;34m\u001b[0m\u001b[0m\n\u001b[0m\u001b[1;32m     11\u001b[0m \u001b[0mtrain_explore\u001b[0m\u001b[0;34m(\u001b[0m\u001b[0magent\u001b[0m\u001b[0;34m,\u001b[0m \u001b[0menv\u001b[0m\u001b[0;34m,\u001b[0m \u001b[0mepochs_train\u001b[0m\u001b[0;34m,\u001b[0m \u001b[0mprefix\u001b[0m\u001b[0;34m=\u001b[0m\u001b[0;34m'fc_train_explore'\u001b[0m\u001b[0;34m)\u001b[0m\u001b[0;34m\u001b[0m\u001b[0;34m\u001b[0m\u001b[0m\n\u001b[1;32m     12\u001b[0m \u001b[0mHTML\u001b[0m\u001b[0;34m(\u001b[0m\u001b[0mdisplay_videos\u001b[0m\u001b[0;34m(\u001b[0m\u001b[0;34m'fc_train_explore100.mp4'\u001b[0m\u001b[0;34m)\u001b[0m\u001b[0;34m)\u001b[0m\u001b[0;34m\u001b[0m\u001b[0;34m\u001b[0m\u001b[0m\n",
      "\u001b[0;31mTypeError\u001b[0m: __init__() got multiple values for argument 'lr'"
     ]
    }
   ],
   "source": [
    "# Training\n",
    "# parameters\n",
    "size = 13\n",
    "T=200\n",
    "temperature=0.3\n",
    "epochs_train=100 # set small when debugging\n",
    "epochs_test=20 # set small when debugging\n",
    "\n",
    "env = EnvironmentExploring(grid_size=size, max_time=T, temperature=0.3)\n",
    "agent = DQN_FC(size, lr=1e-3, epsilon = 0.9, memory_size=2000, batch_size = 32, n_state=3)\n",
    "train_explore(agent, env, epochs_train, prefix='fc_train_explore')\n",
    "HTML(display_videos('fc_train_explore100.mp4'))"
   ]
  },
  {
   "cell_type": "code",
   "execution_count": 47,
   "metadata": {
    "collapsed": true
   },
   "outputs": [
    {
     "name": "stdout",
     "output_type": "stream",
     "text": [
      "Win/lose count 1.0/2.97999999999998. Average score (-1.97999999999998)\n",
      "Win/lose count 0.5/2.97999999999998. Average score (-2.22999999999998)\n",
      "Win/lose count 0.5/1.9900000000000015. Average score (-1.9833333333333207)\n",
      "Win/lose count 0/1.9900000000000015. Average score (-1.984999999999991)\n",
      "Win/lose count 0.5/1.9700000000000015. Average score (-1.881999999999993)\n",
      "Win/lose count 0/2.97999999999998. Average score (-2.0649999999999906)\n",
      "Win/lose count 0.5/2.97999999999998. Average score (-2.1242857142857035)\n",
      "Win/lose count 0/3.0099999999999794. Average score (-2.234999999999988)\n",
      "Win/lose count 0.5/1.9900000000000015. Average score (-2.152222222222212)\n",
      "Win/lose count 0.5/1.9900000000000015. Average score (-2.0859999999999905)\n",
      "Win/lose count 0/1.9900000000000015. Average score (-2.077272727272719)\n",
      "Win/lose count 0.5/2.97999999999998. Average score (-2.110833333333324)\n",
      "Win/lose count 0/1.9900000000000015. Average score (-2.101538461538453)\n",
      "Win/lose count 0/1.9900000000000015. Average score (-2.093571428571421)\n",
      "Win/lose count 0/1.9900000000000015. Average score (-2.08666666666666)\n",
      "Win/lose count 0.5/3.969999999999958. Average score (-2.173124999999991)\n",
      "Win/lose count 0/1.9900000000000015. Average score (-2.162352941176462)\n",
      "Win/lose count 0.5/3.979999999999958. Average score (-2.235555555555545)\n",
      "Win/lose count 0/2.98999999999998. Average score (-2.275263157894726)\n",
      "Win/lose count 0.49/3.979999999999958. Average score (-2.335999999999987)\n",
      "Final score: -2.335999999999987\n"
     ]
    }
   ],
   "source": [
    "# Evaluation\n",
    "test(agent,env,epochs_test,prefix='cnn_test_explore')"
   ]
  },
  {
   "cell_type": "markdown",
   "metadata": {},
   "source": [
    "***\n",
    "***\n",
    "__BONUS question__ Use the expert DQN from the previous question to generate some winning games. Train a model that mimicks its behavior. Compare the performances."
   ]
  },
  {
   "cell_type": "markdown",
   "metadata": {},
   "source": []
  },
  {
   "cell_type": "markdown",
   "metadata": {},
   "source": [
    "***"
   ]
  }
 ],
 "metadata": {
  "kernelspec": {
   "display_name": "Python 3",
   "language": "python",
   "name": "python3"
  },
  "language_info": {
   "codemirror_mode": {
    "name": "ipython",
    "version": 3
   },
   "file_extension": ".py",
   "mimetype": "text/x-python",
   "name": "python",
   "nbconvert_exporter": "python",
   "pygments_lexer": "ipython3",
   "version": "3.6.8"
  }
 },
 "nbformat": 4,
 "nbformat_minor": 2
}
